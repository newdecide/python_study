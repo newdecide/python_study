{
 "cells": [
  {
   "cell_type": "code",
   "execution_count": 1,
   "metadata": {},
   "outputs": [],
   "source": [
    "import numpy as np"
   ]
  },
  {
   "cell_type": "code",
   "execution_count": 2,
   "metadata": {},
   "outputs": [],
   "source": [
    "py_array = [1, 2, 3, 4, 5, 6]\n",
    "np_array = np.array([1, 2, 3, 4, 5, 6])"
   ]
  },
  {
   "cell_type": "code",
   "execution_count": 3,
   "metadata": {},
   "outputs": [
    {
     "data": {
      "text/plain": [
       "[1, 2, 3, 4, 5, 6, 1, 2, 3, 4, 5, 6]"
      ]
     },
     "execution_count": 3,
     "metadata": {},
     "output_type": "execute_result"
    }
   ],
   "source": [
    "py_array * 2\n",
    "# 리스트에 곱하면 리스트의 개수가 배가 된다"
   ]
  },
  {
   "cell_type": "code",
   "execution_count": 4,
   "metadata": {},
   "outputs": [
    {
     "data": {
      "text/plain": [
       "array([ 2,  4,  6,  8, 10, 12])"
      ]
     },
     "execution_count": 4,
     "metadata": {},
     "output_type": "execute_result"
    }
   ],
   "source": [
    "np_array * 2\n",
    "# 브로드캐스팅이라 부른다. 원소에 2가 곱해진다.\n",
    "# np안쓰고 for문을 쓰면 성능상 1000배가 걸린다.\n",
    "# p.225"
   ]
  },
  {
   "cell_type": "code",
   "execution_count": 5,
   "metadata": {},
   "outputs": [],
   "source": [
    "# 파이썬과 넘파이의 연산속도 비교\n",
    "# 1^2 + 1^3 더하기\n",
    "def pythonsum(n):\n",
    "    a = list(range(n))\n",
    "    b = list(range(n))\n",
    "    c = []\n",
    "    for i in list(range(len(a))):\n",
    "        a[i] = i**2\n",
    "        b[i] = i**3\n",
    "        c.append(a[i] + b[i])\n",
    "    return c"
   ]
  },
  {
   "cell_type": "code",
   "execution_count": 6,
   "metadata": {},
   "outputs": [],
   "source": [
    "def numpysum(n):\n",
    "    a = np.arange(n) ** 2\n",
    "    b = np.arange(n) ** 3\n",
    "    c = a + b\n",
    "    return c"
   ]
  },
  {
   "cell_type": "code",
   "execution_count": 7,
   "metadata": {},
   "outputs": [
    {
     "name": "stdout",
     "output_type": "stream",
     "text": [
      "[*]Python work!\n",
      "757 µs ± 22.9 µs per loop (mean ± std. dev. of 7 runs, 1000 loops each)\n",
      "[*]NumPy work!\n",
      "7.87 µs ± 120 ns per loop (mean ± std. dev. of 7 runs, 100000 loops each)\n"
     ]
    }
   ],
   "source": [
    "size = 1000\n",
    "\n",
    "print(\"[*]Python work!\")\n",
    "pythonsum(100)\n",
    "%timeit pythonsum(size)\n",
    "\n",
    "size = np_array.all()\n",
    "print(\"[*]NumPy work!\")\n",
    "%timeit numpysum(size)\n",
    "\n",
    "# 비교결과 넘파이가 100배정도 빠르다."
   ]
  },
  {
   "cell_type": "code",
   "execution_count": 8,
   "metadata": {
    "scrolled": true
   },
   "outputs": [
    {
     "data": {
      "text/plain": [
       "[0,\n",
       " 2,\n",
       " 12,\n",
       " 36,\n",
       " 80,\n",
       " 150,\n",
       " 252,\n",
       " 392,\n",
       " 576,\n",
       " 810,\n",
       " 1100,\n",
       " 1452,\n",
       " 1872,\n",
       " 2366,\n",
       " 2940,\n",
       " 3600,\n",
       " 4352,\n",
       " 5202,\n",
       " 6156,\n",
       " 7220,\n",
       " 8400,\n",
       " 9702,\n",
       " 11132,\n",
       " 12696,\n",
       " 14400,\n",
       " 16250,\n",
       " 18252,\n",
       " 20412,\n",
       " 22736,\n",
       " 25230,\n",
       " 27900,\n",
       " 30752,\n",
       " 33792,\n",
       " 37026,\n",
       " 40460,\n",
       " 44100,\n",
       " 47952,\n",
       " 52022,\n",
       " 56316,\n",
       " 60840,\n",
       " 65600,\n",
       " 70602,\n",
       " 75852,\n",
       " 81356,\n",
       " 87120,\n",
       " 93150,\n",
       " 99452,\n",
       " 106032,\n",
       " 112896,\n",
       " 120050,\n",
       " 127500,\n",
       " 135252,\n",
       " 143312,\n",
       " 151686,\n",
       " 160380,\n",
       " 169400,\n",
       " 178752,\n",
       " 188442,\n",
       " 198476,\n",
       " 208860,\n",
       " 219600,\n",
       " 230702,\n",
       " 242172,\n",
       " 254016,\n",
       " 266240,\n",
       " 278850,\n",
       " 291852,\n",
       " 305252,\n",
       " 319056,\n",
       " 333270,\n",
       " 347900,\n",
       " 362952,\n",
       " 378432,\n",
       " 394346,\n",
       " 410700,\n",
       " 427500,\n",
       " 444752,\n",
       " 462462,\n",
       " 480636,\n",
       " 499280,\n",
       " 518400,\n",
       " 538002,\n",
       " 558092,\n",
       " 578676,\n",
       " 599760,\n",
       " 621350,\n",
       " 643452,\n",
       " 666072,\n",
       " 689216,\n",
       " 712890,\n",
       " 737100,\n",
       " 761852,\n",
       " 787152,\n",
       " 813006,\n",
       " 839420,\n",
       " 866400,\n",
       " 893952,\n",
       " 922082,\n",
       " 950796,\n",
       " 980100]"
      ]
     },
     "execution_count": 8,
     "metadata": {},
     "output_type": "execute_result"
    }
   ],
   "source": [
    "pythonsum(100)"
   ]
  },
  {
   "cell_type": "code",
   "execution_count": 9,
   "metadata": {
    "scrolled": true
   },
   "outputs": [
    {
     "data": {
      "text/plain": [
       "array([     0,      2,     12,     36,     80,    150,    252,    392,\n",
       "          576,    810,   1100,   1452,   1872,   2366,   2940,   3600,\n",
       "         4352,   5202,   6156,   7220,   8400,   9702,  11132,  12696,\n",
       "        14400,  16250,  18252,  20412,  22736,  25230,  27900,  30752,\n",
       "        33792,  37026,  40460,  44100,  47952,  52022,  56316,  60840,\n",
       "        65600,  70602,  75852,  81356,  87120,  93150,  99452, 106032,\n",
       "       112896, 120050, 127500, 135252, 143312, 151686, 160380, 169400,\n",
       "       178752, 188442, 198476, 208860, 219600, 230702, 242172, 254016,\n",
       "       266240, 278850, 291852, 305252, 319056, 333270, 347900, 362952,\n",
       "       378432, 394346, 410700, 427500, 444752, 462462, 480636, 499280,\n",
       "       518400, 538002, 558092, 578676, 599760, 621350, 643452, 666072,\n",
       "       689216, 712890, 737100, 761852, 787152, 813006, 839420, 866400,\n",
       "       893952, 922082, 950796, 980100])"
      ]
     },
     "execution_count": 9,
     "metadata": {},
     "output_type": "execute_result"
    }
   ],
   "source": [
    "numpysum(100)"
   ]
  }
 ],
 "metadata": {
  "kernelspec": {
   "display_name": "Python 3",
   "language": "python",
   "name": "python3"
  },
  "language_info": {
   "codemirror_mode": {
    "name": "ipython",
    "version": 3
   },
   "file_extension": ".py",
   "mimetype": "text/x-python",
   "name": "python",
   "nbconvert_exporter": "python",
   "pygments_lexer": "ipython3",
   "version": "3.7.3"
  }
 },
 "nbformat": 4,
 "nbformat_minor": 2
}
