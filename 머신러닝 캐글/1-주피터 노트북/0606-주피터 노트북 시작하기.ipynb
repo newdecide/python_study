{
 "cells": [
  {
   "cell_type": "markdown",
   "metadata": {},
   "source": [
    "# 주피터 노트북 튜토리얼\n",
    "## 1. 헬로 주피터 노트북 출력하기\n",
    "- 실행한 순서대로 번호가 매겨진다.\n",
    "- 메모기능\n",
    "- '#' 1개는 큰제목, 2개는 부제목\n",
    "- 삭제는 잘라내기 쓰거나, D를 두번누르면 된다.\n",
    "- Kernel Restart & Run All(재시작 하겠다. 초기화 끝까지 전부 실행해준다.)\n",
    "- Restart * Clear Output(아웃풋과 번호를 삭제하겠다.)"
   ]
  },
  {
   "cell_type": "code",
   "execution_count": 1,
   "metadata": {},
   "outputs": [
    {
     "name": "stdout",
     "output_type": "stream",
     "text": [
      "헬로 주피터 노트북\n"
     ]
    }
   ],
   "source": [
    "print(\"헬로 주피터 노트북\")"
   ]
  },
  {
   "cell_type": "markdown",
   "metadata": {},
   "source": [
    "## 2. 목록 만들기\n",
    "- 리스트1\n",
    "- 리스트2\n",
    "- 리스트3\n",
    "\n",
    "## 3. 그림 가져오기\n",
    "- 이미지 주소 복사 <br/>\n",
    "<img src=\"https://img.insight.co.kr/static/2017/08/07/700/75y8bimu5z716014mn30.jpg\" width=\"300\" height=\"300\" align=\"left\">\n"
   ]
  },
  {
   "cell_type": "code",
   "execution_count": null,
   "metadata": {},
   "outputs": [],
   "source": []
  }
 ],
 "metadata": {
  "kernelspec": {
   "display_name": "Python 3",
   "language": "python",
   "name": "python3"
  },
  "language_info": {
   "codemirror_mode": {
    "name": "ipython",
    "version": 3
   },
   "file_extension": ".py",
   "mimetype": "text/x-python",
   "name": "python",
   "nbconvert_exporter": "python",
   "pygments_lexer": "ipython3",
   "version": "3.7.3"
  }
 },
 "nbformat": 4,
 "nbformat_minor": 2
}
